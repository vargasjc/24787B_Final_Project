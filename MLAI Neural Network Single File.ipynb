{
 "cells": [
  {
   "cell_type": "code",
   "execution_count": 2,
   "metadata": {},
   "outputs": [],
   "source": [
    "import numpy as np\n",
    "import pandas as pd\n",
    "import os\n",
    "import matplotlib.pyplot as plt\n",
    "import functions\n",
    "import neural\n",
    "import torch\n",
    "import torch.nn as nn\n",
    "import torch.nn.functional as F\n",
    "import torch.optim as optim"
   ]
  },
  {
   "cell_type": "code",
   "execution_count": 3,
   "metadata": {},
   "outputs": [],
   "source": [
    "functions.folder = r\"D:\\Projects\\MLIA Set\\CAP Sleep\"\n",
    "filelist = os.listdir(functions.folder)"
   ]
  },
  {
   "cell_type": "code",
   "execution_count": 4,
   "metadata": {},
   "outputs": [],
   "source": [
    "learning_rate= 0.0005\n",
    "epochs = 200\n",
    "features = 11\n",
    "classes = 2\n",
    "categories = []\n",
    "train_data = {}\n",
    "test_data = {}"
   ]
  },
  {
   "cell_type": "markdown",
   "metadata": {},
   "source": [
    "Define Neural Network"
   ]
  },
  {
   "cell_type": "code",
   "execution_count": 5,
   "metadata": {},
   "outputs": [],
   "source": [
    "class Baseline001(nn.Module):\n",
    "    debug = False\n",
    "    def __init__(self):\n",
    "        super(Baseline001, self).__init__()\n",
    "        #self.conv0 = nn.conv1d(4,1,kernel_size=2,stride=1,padding=1)\n",
    "        self.fc1 = nn.Linear(features, 24)\n",
    "        self.bn1 = nn.BatchNorm1d(24)\n",
    "        self.drop2 = nn.Dropout(p=0.5)\n",
    "        self.fc3 = nn.Linear(24, 12)\n",
    "        self.bn3 = nn.BatchNorm1d(12)\n",
    "        self.drop4 = nn.Dropout(p=0.5)\n",
    "        self.fc5 = nn.Linear(12, classes)\n",
    "\n",
    "    def forward(self, x):\n",
    "        x = F.logsigmoid(self.fc1(x))\n",
    "        x = self.bn1(x)\n",
    "        x = self.drop2(x)\n",
    "        x = F.logsigmoid(self.fc3(x))\n",
    "        x = self.bn3(x)\n",
    "        x = self.drop4(x)\n",
    "        x = F.logsigmoid(self.fc5(x))\n",
    "        return x"
   ]
  },
  {
   "cell_type": "code",
   "execution_count": 6,
   "metadata": {},
   "outputs": [],
   "source": [
    "baseline = Baseline001()\n",
    "optimizer = optim.Adam(baseline.parameters(), lr = learning_rate, eps=1e-08)"
   ]
  },
  {
   "cell_type": "markdown",
   "metadata": {},
   "source": [
    "Load Data and remove unwanted rows"
   ]
  },
  {
   "cell_type": "code",
   "execution_count": 8,
   "metadata": {
    "scrolled": true
   },
   "outputs": [
    {
     "name": "stdout",
     "output_type": "stream",
     "text": [
      "Available EEG Columns\n",
      "['EEG C3-P3', 'EEG C4-A1', 'EEG C4-P4', 'EEG ECG1-ECG2', 'EEG EMG1-EMG2', 'EEG F3-C3', 'EEG F4-C4', 'EEG F7-T3', 'EEG F8-T4', 'EEG FP1-F3', 'EEG Fp2-F4', 'EEG P3-O1', 'EEG P4-O2', 'EEG T3-T5', 'EEG T4-T6']\n",
      "Other Columns\n",
      "['Duration[s]', 'EMG - DX1-DX2', 'EMG - SX1-SX2', 'EOG - ROC-LOC', 'Event', 'Location', 'Position', 'Sleep Stage']\n"
     ]
    }
   ],
   "source": [
    "filename = \"brux2.edf\"\n",
    "data = functions.generate_table_bands(filename, functions.folder, save_csv = False, load_csv=True)\n",
    "data_filtered = data[(data[\"Event\"][\"value\"] != \"SLEEP-REM\") & (data[\"Sleep Stage\"][\"value\"] != \"W\")]\n",
    "data_original_cats = data_filtered[\"Event\"]\n",
    "print(\"Available EEG Columns\",[l for l in data_filtered.columns.levels[0] if \"EEG\" in l],sep=\"\\n\")\n",
    "print(\"Other Columns\",[l for l in data_filtered.columns.levels[0] if \"EEG\" not in l],sep=\"\\n\")"
   ]
  },
  {
   "cell_type": "code",
   "execution_count": 49,
   "metadata": {
    "scrolled": true
   },
   "outputs": [
    {
     "name": "stdout",
     "output_type": "stream",
     "text": [
      "Training Class Mix:\n",
      "\t[0.06995127 0.01652205 0.11185071 0.12504457 0.35599667 0.14887674\n",
      " 0.17175799]\n",
      "\n",
      "Testing Class Mix:\n",
      "\t[0.06988353 0.01663894 0.11195626 0.12502971 0.35607321 0.14879962\n",
      " 0.17161873]\n"
     ]
    }
   ],
   "source": [
    "from sklearn.model_selection import StratifiedShuffleSplit\n",
    "\n",
    "filename_t = filename\n",
    "\n",
    "split = StratifiedShuffleSplit(n_splits=1, test_size=0.2, random_state=42)\n",
    "for train_index, test_index in split.split(data_filtered, data_filtered[\"Event\"]):\n",
    "    data1_filtered = data_filtered.iloc[train_index]\n",
    "    data2_filtered = data_filtered.iloc[test_index]\n",
    "\n",
    "data_t_filtered = data2_filtered\n",
    "data_filtered = data1_filtered\n",
    "\n",
    "counts = pd.factorize(data1_filtered[\"Event\"][\"value\"], sort=True)[0]\n",
    "print(\"Training Class Mix:\",np.bincount(counts)/np.sum(np.bincount(counts)),sep=\"\\n\\t\")\n",
    "counts = pd.factorize(data2_filtered[\"Event\"][\"value\"], sort=True)[0]\n",
    "print(\"\\nTesting Class Mix:\",np.bincount(counts)/np.sum(np.bincount(counts)),sep=\"\\n\\t\")"
   ]
  },
  {
   "cell_type": "code",
   "execution_count": 50,
   "metadata": {},
   "outputs": [
    {
     "name": "stderr",
     "output_type": "stream",
     "text": [
      "C:\\Users\\varga\\Anaconda3\\envs\\TensorFlow\\lib\\site-packages\\pandas\\core\\frame.py:3798: SettingWithCopyWarning: \n",
      "A value is trying to be set on a copy of a slice from a DataFrame\n",
      "\n",
      "See the caveats in the documentation: http://pandas.pydata.org/pandas-docs/stable/indexing.html#indexing-view-versus-copy\n",
      "  method=method)\n"
     ]
    }
   ],
   "source": [
    "if classes == 2:\n",
    "    data_filtered.replace({\"MCAP-A1\":\"A\",\"MCAP-A2\":\"A\",\"MCAP-A3\":\"A\",\n",
    "                           \"SLEEP-S1\":\"S\",\"SLEEP-S2\":\"S\",\"SLEEP-S3\":\"S\",\"SLEEP-S4\":\"S\"}, inplace = True)\n",
    "    data_t_filtered.replace({\"MCAP-A1\":\"A\",\"MCAP-A2\":\"A\",\"MCAP-A3\":\"A\",\n",
    "                             \"SLEEP-S1\":\"S\",\"SLEEP-S2\":\"S\",\"SLEEP-S3\":\"S\",\"SLEEP-S4\":\"S\"}, inplace = True)"
   ]
  },
  {
   "cell_type": "markdown",
   "metadata": {},
   "source": [
    "Process data"
   ]
  },
  {
   "cell_type": "code",
   "execution_count": 9,
   "metadata": {},
   "outputs": [],
   "source": [
    "# Gamma band is not part of the current research. It's been cutoff by the filters. Removing column\n",
    "#data_part = data_filtered[\"EEG C4-A1\"].drop(labels=\"gamma\", axis=1)\n",
    "#data_labels = data_filtered[\"Event\"]"
   ]
  },
  {
   "cell_type": "markdown",
   "metadata": {},
   "source": [
    "Using more EEGs as additional features"
   ]
  },
  {
   "cell_type": "code",
   "execution_count": 51,
   "metadata": {},
   "outputs": [
    {
     "name": "stdout",
     "output_type": "stream",
     "text": [
      "Normalizing features between range, excluding outliers greater than 10 standard deviations.\n"
     ]
    }
   ],
   "source": [
    "data_part1 = data_filtered[\"EEG C4-P4\"]#.drop(labels=\"gamma\", axis=1)\n",
    "data_part2 = data_filtered[\"EEG C4-A1\"]#.drop(labels=\"gamma\", axis=1)\n",
    "#data_part3 = data_filtered[\"EMG - DX1-DX2\"]\n",
    "#data_part3 = functions.generate_nonEEG_bands(data_filtered[\"EMG - DX1-DX2\"])\n",
    "#data_part4 = data_filtered[\"EOG - ROC-LOC\"]\n",
    "data_part4 = functions.generate_nonEEG_bands(data_filtered[\"EOG - ROC-LOC\"])\n",
    "\n",
    "data_part = pd.concat([data_part1,data_part2,data_part4], axis = 1) #\n",
    "data_labels = data_filtered[\"Event\"]"
   ]
  },
  {
   "cell_type": "code",
   "execution_count": 52,
   "metadata": {},
   "outputs": [
    {
     "name": "stdout",
     "output_type": "stream",
     "text": [
      "Normalizing features between range, excluding outliers greater than 10 standard deviations.\n"
     ]
    }
   ],
   "source": [
    "data_t_part1 = data_t_filtered[\"EEG C4-P4\"]#.drop(labels=\"gamma\", axis=1)\n",
    "data_t_part2 = data_t_filtered[\"EEG C4-A1\"]#.drop(labels=\"gamma\", axis=1)\n",
    "#data_t_part3 = data_t_filtered[\"EMG - DX1-DX2\"]\n",
    "#data_t_part3 = functions.generate_nonEEG_bands(data_t_filtered[\"EMG - DX1-DX2\"])\n",
    "#data_t_part4 = data_t_filtered[\"EOG - ROC-LOC\"]\n",
    "data_t_part4 = functions.generate_nonEEG_bands(data_t_filtered[\"EOG - ROC-LOC\"])\n",
    "\n",
    "data_t_part = pd.concat([data_t_part1,data_t_part2,data_t_part4], axis = 1) #\n",
    "data_t_labels = data_t_filtered[\"Event\"]"
   ]
  },
  {
   "cell_type": "markdown",
   "metadata": {},
   "source": [
    "Concatenate all channels together. Doesn't yield best results it seems."
   ]
  },
  {
   "cell_type": "code",
   "execution_count": 12,
   "metadata": {},
   "outputs": [],
   "source": [
    "# Concatenate entire EEG data into single table\n",
    "#data_concat = neural.concatenate_all_EEG_data(data_filtered)\n",
    "#data_part = data_concat.drop(labels=\"value\", axis=1)#.drop(labels=\"gamma\", axis=1)\n",
    "#data_labels = data_concat[\"value\"]"
   ]
  },
  {
   "cell_type": "code",
   "execution_count": 53,
   "metadata": {},
   "outputs": [],
   "source": [
    "trainloader, categories = neural.get_training_data(data_part, data_labels, batch_size=10000, num_workers=2)\n",
    "testloader, categories = neural.get_training_data(data_t_part, data_t_labels, batch_size=10000, num_workers=2)"
   ]
  },
  {
   "cell_type": "markdown",
   "metadata": {},
   "source": [
    "Run Model"
   ]
  },
  {
   "cell_type": "code",
   "execution_count": 54,
   "metadata": {
    "scrolled": false
   },
   "outputs": [
    {
     "name": "stdout",
     "output_type": "stream",
     "text": [
      "Model moved to GPU.\n",
      "Training epoch   1\n",
      "Data label mix 0 [1985 8015]\n",
      "Data label mix 1 [1352 5474]\n",
      "\tAccuracy: 47.22% \tLoss: 1.48\n",
      "\tClass A Accuracy: 38.09%\n",
      "\tClass S Accuracy: 49.48%\n",
      "Training epoch  21\n",
      "Data label mix 0 [1975 8025]\n",
      "Data label mix 1 [1362 5464]\n",
      "\tAccuracy: 69.35% \tLoss: 1.35\n",
      "\tClass A Accuracy: 53.34%\n",
      "\tClass S Accuracy: 73.31%\n",
      "Training epoch  41\n",
      "Data label mix 0 [1989 8011]\n",
      "Data label mix 1 [1348 5478]\n",
      "\tAccuracy: 80.24% \tLoss: 1.26\n",
      "\tClass A Accuracy: 62.81%\n",
      "\tClass S Accuracy: 84.56%\n",
      "Training epoch  61\n",
      "Data label mix 0 [1993 8007]\n",
      "Data label mix 1 [1344 5482]\n",
      "\tAccuracy: 81.91% \tLoss: 1.17\n",
      "\tClass A Accuracy: 65.99%\n",
      "\tClass S Accuracy: 85.86%\n",
      "Training epoch  81\n",
      "Data label mix 0 [1993 8007]\n",
      "Data label mix 1 [1344 5482]\n",
      "\tAccuracy: 82.85% \tLoss: 1.07\n",
      "\tClass A Accuracy: 70.39%\n",
      "\tClass S Accuracy: 85.93%\n",
      "Training epoch 101\n",
      "Data label mix 0 [1982 8018]\n",
      "Data label mix 1 [1355 5471]\n",
      "\tAccuracy: 83.23% \tLoss: 0.99\n",
      "\tClass A Accuracy: 73.51%\n",
      "\tClass S Accuracy: 85.64%\n",
      "Training epoch 121\n",
      "Data label mix 0 [1957 8043]\n",
      "Data label mix 1 [1380 5446]\n",
      "\tAccuracy: 83.51% \tLoss: 0.92\n",
      "\tClass A Accuracy: 75.73%\n",
      "\tClass S Accuracy: 85.44%\n",
      "Training epoch 141\n",
      "Data label mix 0 [2002 7998]\n",
      "Data label mix 1 [1335 5491]\n",
      "\tAccuracy: 83.50% \tLoss: 0.87\n",
      "\tClass A Accuracy: 77.73%\n",
      "\tClass S Accuracy: 84.92%\n",
      "Training epoch 161\n",
      "Data label mix 0 [1967 8033]\n",
      "Data label mix 1 [1370 5456]\n",
      "\tAccuracy: 83.10% \tLoss: 0.85\n",
      "\tClass A Accuracy: 79.53%\n",
      "\tClass S Accuracy: 83.98%\n",
      "Training epoch 181\n",
      "Data label mix 0 [1971 8029]\n",
      "Data label mix 1 [1366 5460]\n",
      "\tAccuracy: 83.10% \tLoss: 0.85\n",
      "\tClass A Accuracy: 80.31%\n",
      "\tClass S Accuracy: 83.79%\n",
      "Training epoch 200\n",
      "Data label mix 0 [2000 8000]\n",
      "Data label mix 1 [1337 5489]\n",
      "\tAccuracy: 83.06% \tLoss: 0.85\n",
      "\tClass A Accuracy: 80.91%\n",
      "\tClass S Accuracy: 83.59%\n"
     ]
    },
    {
     "data": {
      "image/png": "[encoded data removed]",
      "text/plain": [
       "<Figure size 432x288 with 1 Axes>"
      ]
     },
     "metadata": {
      "needs_background": "light"
     },
     "output_type": "display_data"
    },
    {
     "data": {
      "image/png": "[encoded data removed]",
      "text/plain": [
       "<Figure size 432x288 with 1 Axes>"
      ]
     },
     "metadata": {
      "needs_background": "light"
     },
     "output_type": "display_data"
    },
    {
     "data": {
      "image/png": "[encoded data removed]",
      "text/plain": [
       "<Figure size 432x288 with 1 Axes>"
      ]
     },
     "metadata": {
      "needs_background": "light"
     },
     "output_type": "display_data"
    },
    {
     "data": {
      "image/png": "[encoded data removed]",
      "text/plain": [
       "<Figure size 288x288 with 2 Axes>"
      ]
     },
     "metadata": {
      "needs_background": "light"
     },
     "output_type": "display_data"
    },
    {
     "name": "stdout",
     "output_type": "stream",
     "text": [
      "Running time: 686.91s\n"
     ]
    }
   ],
   "source": [
    "train_acc, train_class_acc, train_av_class_acc, train_loss, train_cm = neural.run_model(data=trainloader, \n",
    "                                                                          categories = categories, \n",
    "                                                                          model = baseline, optimizer = optimizer, \n",
    "                                                                          epochs = epochs, allow_cuda = True, \n",
    "                                                                          x_shape=(-1,features))"
   ]
  },
  {
   "cell_type": "code",
   "execution_count": 60,
   "metadata": {},
   "outputs": [
    {
     "name": "stdout",
     "output_type": "stream",
     "text": [
      "Model moved to GPU.\n",
      "Data label mix [ 835 3372]\n",
      "\tAccuracy: 86.36% \tLoss: 0.40\n",
      "\tClass A Accuracy: 77.84%\n",
      "\tClass S Accuracy: 88.46%\n"
     ]
    },
    {
     "data": {
      "image/png": "[encoded data removed]",
      "text/plain": [
       "<Figure size 432x288 with 1 Axes>"
      ]
     },
     "metadata": {
      "needs_background": "light"
     },
     "output_type": "display_data"
    },
    {
     "data": {
      "image/png": "[encoded data removed]",
      "text/plain": [
       "<Figure size 288x288 with 2 Axes>"
      ]
     },
     "metadata": {
      "needs_background": "light"
     },
     "output_type": "display_data"
    },
    {
     "name": "stdout",
     "output_type": "stream",
     "text": [
      "Running time: 0.49s\n"
     ]
    }
   ],
   "source": [
    "test_acc, test_class_acc, test_av_class_acc, test_loss, test_cm  = neural.run_model(data=testloader, \n",
    "                                                                       categories = categories, \n",
    "                                                                       model = baseline, optimizer=optimizer, \n",
    "                                                                       allow_cuda = True, x_shape=(-1,features), \n",
    "                                                                       train_mode=False)"
   ]
  },
  {
   "cell_type": "code",
   "execution_count": 61,
   "metadata": {},
   "outputs": [
    {
     "name": "stderr",
     "output_type": "stream",
     "text": [
      "C:\\Users\\varga\\Anaconda3\\envs\\TensorFlow\\lib\\site-packages\\torch\\serialization.py:241: UserWarning: Couldn't retrieve source code for container of type Baseline001. It won't be checked for correctness upon loading.\n",
      "  \"type \" + obj.__name__ + \". It won't be checked \"\n"
     ]
    }
   ],
   "source": [
    "train_data = {\"Train File\":filename, \"Train Accuracy\":train_acc, \"Train Final Class Accuracy\":train_class_acc,\n",
    "              \"Train Av Class Accuracy\":train_av_class_acc, \"Train Loss\":train_loss, \"Train CM\": train_cm}\n",
    "test_data = {\"Test File\":filename_t,\"Test Accuracy\":test_acc, \"Test Final Class Accuracy\":test_class_acc,\n",
    "             \"Test Av Class Accuracy\":test_av_class_acc, \"Test Loss\":test_loss, \"Test CM\": test_cm}\n",
    "\n",
    "PATH = r\"D:\\OneDrive\\Documentos\\CMU Classes\\24787-B\\Project\\Models\\current.pt\"\n",
    "\n",
    "neural.save_model(baseline, optimizer, epochs, categories, train_data, test_data, PATH)\n"
   ]
  },
  {
   "cell_type": "markdown",
   "metadata": {},
   "source": [
    "## Shallow Learning Alternatives"
   ]
  },
  {
   "cell_type": "code",
   "execution_count": 18,
   "metadata": {},
   "outputs": [],
   "source": [
    "from sklearn import svm\n",
    "from sklearn.metrics import confusion_matrix"
   ]
  },
  {
   "cell_type": "code",
   "execution_count": 19,
   "metadata": {},
   "outputs": [],
   "source": [
    "train_features = trainloader.dataset.features\n",
    "train_labels = trainloader.dataset.labels\n",
    "\n",
    "test_features = testloader.dataset.features\n",
    "test_labels = testloader.dataset.labels"
   ]
  },
  {
   "cell_type": "markdown",
   "metadata": {},
   "source": [
    "### 1) SVM"
   ]
  },
  {
   "cell_type": "code",
   "execution_count": 20,
   "metadata": {},
   "outputs": [],
   "source": [
    "clf = svm.SVC(C=10, gamma=\"scale\", degree=3)\n",
    "clf.fit(train_features, train_labels)\n",
    "svm_train_predict = clf.predict(train_features)\n",
    "svm_test_predict = clf.predict(test_features)"
   ]
  },
  {
   "cell_type": "code",
   "execution_count": 21,
   "metadata": {},
   "outputs": [
    {
     "name": "stdout",
     "output_type": "stream",
     "text": [
      "SVM Training Accuracy: 88.85%\n",
      "SVM Test Accuracy: 54.84%\n"
     ]
    }
   ],
   "source": [
    "svm_train_acc = np.sum(svm_train_predict == train_labels.squeeze())/len(train_labels)\n",
    "svm_test_acc = np.sum(svm_test_predict == test_labels.squeeze())/len(test_labels)\n",
    "print(\"SVM Training Accuracy: %.2f%%\"%(svm_train_acc*100))\n",
    "print(\"SVM Test Accuracy: %.2f%%\"%(svm_test_acc*100))"
   ]
  },
  {
   "cell_type": "code",
   "execution_count": 22,
   "metadata": {},
   "outputs": [
    {
     "data": {
      "image/png": "[encoded data removed]",
      "text/plain": [
       "<Figure size 288x288 with 2 Axes>"
      ]
     },
     "metadata": {
      "needs_background": "light"
     },
     "output_type": "display_data"
    },
    {
     "name": "stdout",
     "output_type": "stream",
     "text": [
      "Categories ['A', 'S']\n",
      "Confusion Matrix:\n",
      "[[ 2279  1893]\n",
      " [  453 16408]]\n"
     ]
    }
   ],
   "source": [
    "svm_cm = confusion_matrix(train_labels, svm_train_predict)\n",
    "row_sum = svm_cm.sum(axis = 1, keepdims=True)\n",
    "plt.matshow(np.round(100*svm_cm/row_sum,1), cmap=plt.cm.YlGn) #gray\n",
    "plt.colorbar()\n",
    "plt.show()\n",
    "print(\"Categories\",list(categories))\n",
    "print(\"Confusion Matrix:\",svm_cm,sep=\"\\n\")"
   ]
  },
  {
   "cell_type": "code",
   "execution_count": 23,
   "metadata": {},
   "outputs": [
    {
     "data": {
      "image/png": "[encoded data removed]",
      "text/plain": [
       "<Figure size 288x288 with 2 Axes>"
      ]
     },
     "metadata": {
      "needs_background": "light"
     },
     "output_type": "display_data"
    },
    {
     "name": "stdout",
     "output_type": "stream",
     "text": [
      "Categories ['A', 'S']\n",
      "Confusion Matrix:\n",
      "[[1873  288]\n",
      " [7909 8080]]\n"
     ]
    }
   ],
   "source": [
    "svm_test_cm = confusion_matrix(test_labels, svm_test_predict)\n",
    "row_sum_test = svm_test_cm.sum(axis = 1, keepdims=True)\n",
    "plt.matshow(np.round(100*svm_test_cm/row_sum_test,1), cmap=plt.cm.YlGn) #gray\n",
    "plt.colorbar()\n",
    "plt.show()\n",
    "print(\"Categories\",list(categories))\n",
    "print(\"Confusion Matrix:\",svm_test_cm,sep=\"\\n\")"
   ]
  },
  {
   "cell_type": "markdown",
   "metadata": {},
   "source": [
    "## SVM Additional Subcategorization"
   ]
  },
  {
   "cell_type": "code",
   "execution_count": null,
   "metadata": {},
   "outputs": [],
   "source": [
    "#filename = \"B00010.2classes.max.pt\"     \n",
    "#baseline, optimizer, epochs, categories, train_data, test_data = neural.load_model(filename)"
   ]
  },
  {
   "cell_type": "code",
   "execution_count": null,
   "metadata": {},
   "outputs": [],
   "source": [
    "#train_predictions, train_labels = neural.predict(trainloader, baseline, allow_cuda = True, x_shape = (-1,features))"
   ]
  },
  {
   "cell_type": "markdown",
   "metadata": {},
   "source": [
    "Train SVM"
   ]
  },
  {
   "cell_type": "code",
   "execution_count": null,
   "metadata": {},
   "outputs": [],
   "source": [
    "# The data predicted to be phase A\n",
    "#A_data = data_part[train_labels == 0]\n",
    "#A_labels = data_original_cats[train_labels == 0]\n",
    "#A_data = pd.concat([A_data,A_labels], axis = 1)\n",
    "#A_data.columns = ['delta 1', 'theta 1', 'alpha 1', 'sigma 1', 'beta 1', 'delta 2', 'theta 2', 'alpha 2',\n",
    "#       'sigma 2', 'beta 2', 'emg', 'eog']"
   ]
  },
  {
   "cell_type": "code",
   "execution_count": null,
   "metadata": {},
   "outputs": [],
   "source": [
    "#from sklearn import svm\n",
    "#clf = svm.SVC(C=10, gamma=\"scale\", degree=3)\n",
    "#clf.fit(A_data, A_labels)"
   ]
  },
  {
   "cell_type": "code",
   "execution_count": null,
   "metadata": {},
   "outputs": [],
   "source": [
    "#svm_train_acc = np.sum(clf.predict(A_data) == A_labels.squeeze())/len(A_labels)\n",
    "#print(\"SVM Training Accuracy: %.2f%%\"%(svm_train_acc*100))"
   ]
  },
  {
   "cell_type": "code",
   "execution_count": null,
   "metadata": {},
   "outputs": [],
   "source": [
    "#A_data = data_part[train_predictions == 0]\n",
    "#A_labels = data_original_cats[train_predictions == 0]\n",
    "#svm_prediction = clf.predict(A_data)\n",
    "#svm_test_acc = np.sum(svm_prediction == A_labels.squeeze())/len(A_labels)\n",
    "#print(\"SVM Test Accuracy: %.2f%%\"%(svm_test_acc*100))"
   ]
  },
  {
   "cell_type": "code",
   "execution_count": null,
   "metadata": {},
   "outputs": [],
   "source": [
    "#A_data"
   ]
  },
  {
   "cell_type": "code",
   "execution_count": 59,
   "metadata": {},
   "outputs": [],
   "source": [
    "# RELOAD FILES!!!\n",
    "from importlib import reload\n",
    "functions = reload(functions)\n",
    "neural = reload(neural)"
   ]
  },
  {
   "cell_type": "code",
   "execution_count": null,
   "metadata": {},
   "outputs": [],
   "source": []
  }
 ],
 "metadata": {
  "kernelspec": {
   "display_name": "Python 3",
   "language": "python",
   "name": "python3"
  },
  "language_info": {
   "codemirror_mode": {
    "name": "ipython",
    "version": 3
   },
   "file_extension": ".py",
   "mimetype": "text/x-python",
   "name": "python",
   "nbconvert_exporter": "python",
   "pygments_lexer": "ipython3",
   "version": "3.6.7"
  }
 },
 "nbformat": 4,
 "nbformat_minor": 2
}
